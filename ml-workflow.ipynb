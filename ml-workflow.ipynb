{
 "cells": [
  {
   "cell_type": "markdown",
   "metadata": {
    "_uuid": "8b803d21f9fc2862a5f53d730c80f8f045fe1b7c"
   },
   "source": [
    "# New York City Taxi Trip Duration"
   ]
  },
  {
   "cell_type": "markdown",
   "metadata": {
    "_kg_hide-input": false,
    "_uuid": "928ed469171a0ae01e24043f2753b488b59f205f"
   },
   "source": [
    "The competition dataset is based on the 2016 NYC Yellow Cab trip record data made available in Big Query on Google Cloud Platform. The data was originally published by the NYC Taxi and Limousine Commission (TLC). The data was sampled and cleaned for the purposes of this playground competition. Based on individual trip attributes, participants should **predict the duration of each trip in the test set.**\n",
    "\n",
    "### File descriptions\n",
    "\n",
    "**train.csv** - the training set (contains 1458644 trip records)  \n",
    "**test.csv** - the testing set (contains 625134 trip records)  \n",
    "**sample_submission.csv** - a sample submission file in the correct format\n",
    "\n",
    "### Table of Contents:\n",
    "**[I. Data loading and overview](#one)**\n",
    "- [a. Loading the data](#one-a)\n",
    "- [b. Overview](#one-b)\n",
    "\n",
    "**[II. Data cleaning](#two)**\n",
    "- [a. Duplicated and missing values](#two-a)\n",
    "- [b. Deal with outliers](#two-b)\n",
    "\n",
    "**[III. Features engineering](#three)**\n",
    "- [a. Target](#three-a)\n",
    "- [b. Deal with categorical features](#three-b)\n",
    "- [c. Deal with dates](#three-c)\n",
    "- [d. Distance and speed creations](#three-d)\n",
    "- [e. Correlations and dimensionality reductions](#three-e)\n",
    "\n",
    "**[IV. Model selection](#four)**\n",
    "- [a. Split](#four-a)\n",
    "- [b. Metrics](#four-b)\n",
    "- [c. Models](#four-c)\n",
    "- [d. Cross-validation](#four-d)\n",
    "\n",
    "**[V. Hyperparameters tuning](#five)**\n",
    "\n",
    "**[VI. Training and predictions](#six)**"
   ]
  },
  {
   "cell_type": "markdown",
   "metadata": {
    "_uuid": "8bcf7a799ff0f92329de70fff29e31c9a62d97cd"
   },
   "source": [
    "## I. Data loading and overview <a id=\"one\"></a>"
   ]
  },
  {
   "cell_type": "code",
   "execution_count": 1,
   "metadata": {
    "_uuid": "a2d92f36f38765c5fbed4d672ea8f746cb073202"
   },
   "outputs": [],
   "source": [
    "import matplotlib.pyplot as plt\n",
    "import numpy as np\n",
    "import pandas as pd\n",
    "import seaborn as sns\n",
    "\n",
    "%matplotlib inline"
   ]
  },
  {
   "cell_type": "markdown",
   "metadata": {
    "_uuid": "98d81f72eded731792db8202cd9ffb7fb2a4c6c2"
   },
   "source": [
    "### a. Loading the data <a id=\"one-a\"></a>"
   ]
  },
  {
   "cell_type": "code",
   "execution_count": 2,
   "metadata": {
    "_uuid": "573a8353e37dfbfd0c193a7118199528c38650f7"
   },
   "outputs": [],
   "source": [
    "df = pd.read_csv(\"../input/train.csv\")\n",
    "test = pd.read_csv(\"../input/test.csv\")"
   ]
  },
  {
   "cell_type": "code",
   "execution_count": 3,
   "metadata": {
    "_uuid": "e4a398e7c1f4003a0d288edb01ed1942865a3803"
   },
   "outputs": [
    {
     "data": {
      "text/html": [
       "<div>\n",
       "<style scoped>\n",
       "    .dataframe tbody tr th:only-of-type {\n",
       "        vertical-align: middle;\n",
       "    }\n",
       "\n",
       "    .dataframe tbody tr th {\n",
       "        vertical-align: top;\n",
       "    }\n",
       "\n",
       "    .dataframe thead th {\n",
       "        text-align: right;\n",
       "    }\n",
       "</style>\n",
       "<table border=\"1\" class=\"dataframe\">\n",
       "  <thead>\n",
       "    <tr style=\"text-align: right;\">\n",
       "      <th></th>\n",
       "      <th>id</th>\n",
       "      <th>vendor_id</th>\n",
       "      <th>pickup_datetime</th>\n",
       "      <th>dropoff_datetime</th>\n",
       "      <th>passenger_count</th>\n",
       "      <th>pickup_longitude</th>\n",
       "      <th>pickup_latitude</th>\n",
       "      <th>dropoff_longitude</th>\n",
       "      <th>dropoff_latitude</th>\n",
       "      <th>store_and_fwd_flag</th>\n",
       "      <th>trip_duration</th>\n",
       "    </tr>\n",
       "  </thead>\n",
       "  <tbody>\n",
       "    <tr>\n",
       "      <th>0</th>\n",
       "      <td>id2875421</td>\n",
       "      <td>2</td>\n",
       "      <td>2016-03-14 17:24:55</td>\n",
       "      <td>2016-03-14 17:32:30</td>\n",
       "      <td>1</td>\n",
       "      <td>-73.982155</td>\n",
       "      <td>40.767937</td>\n",
       "      <td>-73.964630</td>\n",
       "      <td>40.765602</td>\n",
       "      <td>N</td>\n",
       "      <td>455</td>\n",
       "    </tr>\n",
       "    <tr>\n",
       "      <th>1</th>\n",
       "      <td>id2377394</td>\n",
       "      <td>1</td>\n",
       "      <td>2016-06-12 00:43:35</td>\n",
       "      <td>2016-06-12 00:54:38</td>\n",
       "      <td>1</td>\n",
       "      <td>-73.980415</td>\n",
       "      <td>40.738564</td>\n",
       "      <td>-73.999481</td>\n",
       "      <td>40.731152</td>\n",
       "      <td>N</td>\n",
       "      <td>663</td>\n",
       "    </tr>\n",
       "    <tr>\n",
       "      <th>2</th>\n",
       "      <td>id3858529</td>\n",
       "      <td>2</td>\n",
       "      <td>2016-01-19 11:35:24</td>\n",
       "      <td>2016-01-19 12:10:48</td>\n",
       "      <td>1</td>\n",
       "      <td>-73.979027</td>\n",
       "      <td>40.763939</td>\n",
       "      <td>-74.005333</td>\n",
       "      <td>40.710087</td>\n",
       "      <td>N</td>\n",
       "      <td>2124</td>\n",
       "    </tr>\n",
       "    <tr>\n",
       "      <th>3</th>\n",
       "      <td>id3504673</td>\n",
       "      <td>2</td>\n",
       "      <td>2016-04-06 19:32:31</td>\n",
       "      <td>2016-04-06 19:39:40</td>\n",
       "      <td>1</td>\n",
       "      <td>-74.010040</td>\n",
       "      <td>40.719971</td>\n",
       "      <td>-74.012268</td>\n",
       "      <td>40.706718</td>\n",
       "      <td>N</td>\n",
       "      <td>429</td>\n",
       "    </tr>\n",
       "    <tr>\n",
       "      <th>4</th>\n",
       "      <td>id2181028</td>\n",
       "      <td>2</td>\n",
       "      <td>2016-03-26 13:30:55</td>\n",
       "      <td>2016-03-26 13:38:10</td>\n",
       "      <td>1</td>\n",
       "      <td>-73.973053</td>\n",
       "      <td>40.793209</td>\n",
       "      <td>-73.972923</td>\n",
       "      <td>40.782520</td>\n",
       "      <td>N</td>\n",
       "      <td>435</td>\n",
       "    </tr>\n",
       "  </tbody>\n",
       "</table>\n",
       "</div>"
      ],
      "text/plain": [
       "          id  vendor_id      ...      store_and_fwd_flag trip_duration\n",
       "0  id2875421          2      ...                       N           455\n",
       "1  id2377394          1      ...                       N           663\n",
       "2  id3858529          2      ...                       N          2124\n",
       "3  id3504673          2      ...                       N           429\n",
       "4  id2181028          2      ...                       N           435\n",
       "\n",
       "[5 rows x 11 columns]"
      ]
     },
     "execution_count": 3,
     "metadata": {},
     "output_type": "execute_result"
    }
   ],
   "source": [
    "df.head(5)"
   ]
  },
  {
   "cell_type": "code",
   "execution_count": 4,
   "metadata": {
    "_uuid": "bafeb9384f26ee7c8f3ac08aea33991636490b61"
   },
   "outputs": [
    {
     "data": {
      "text/html": [
       "<div>\n",
       "<style scoped>\n",
       "    .dataframe tbody tr th:only-of-type {\n",
       "        vertical-align: middle;\n",
       "    }\n",
       "\n",
       "    .dataframe tbody tr th {\n",
       "        vertical-align: top;\n",
       "    }\n",
       "\n",
       "    .dataframe thead th {\n",
       "        text-align: right;\n",
       "    }\n",
       "</style>\n",
       "<table border=\"1\" class=\"dataframe\">\n",
       "  <thead>\n",
       "    <tr style=\"text-align: right;\">\n",
       "      <th></th>\n",
       "      <th>id</th>\n",
       "      <th>vendor_id</th>\n",
       "      <th>pickup_datetime</th>\n",
       "      <th>passenger_count</th>\n",
       "      <th>pickup_longitude</th>\n",
       "      <th>pickup_latitude</th>\n",
       "      <th>dropoff_longitude</th>\n",
       "      <th>dropoff_latitude</th>\n",
       "      <th>store_and_fwd_flag</th>\n",
       "    </tr>\n",
       "  </thead>\n",
       "  <tbody>\n",
       "    <tr>\n",
       "      <th>0</th>\n",
       "      <td>id3004672</td>\n",
       "      <td>1</td>\n",
       "      <td>2016-06-30 23:59:58</td>\n",
       "      <td>1</td>\n",
       "      <td>-73.988129</td>\n",
       "      <td>40.732029</td>\n",
       "      <td>-73.990173</td>\n",
       "      <td>40.756680</td>\n",
       "      <td>N</td>\n",
       "    </tr>\n",
       "    <tr>\n",
       "      <th>1</th>\n",
       "      <td>id3505355</td>\n",
       "      <td>1</td>\n",
       "      <td>2016-06-30 23:59:53</td>\n",
       "      <td>1</td>\n",
       "      <td>-73.964203</td>\n",
       "      <td>40.679993</td>\n",
       "      <td>-73.959808</td>\n",
       "      <td>40.655403</td>\n",
       "      <td>N</td>\n",
       "    </tr>\n",
       "    <tr>\n",
       "      <th>2</th>\n",
       "      <td>id1217141</td>\n",
       "      <td>1</td>\n",
       "      <td>2016-06-30 23:59:47</td>\n",
       "      <td>1</td>\n",
       "      <td>-73.997437</td>\n",
       "      <td>40.737583</td>\n",
       "      <td>-73.986160</td>\n",
       "      <td>40.729523</td>\n",
       "      <td>N</td>\n",
       "    </tr>\n",
       "    <tr>\n",
       "      <th>3</th>\n",
       "      <td>id2150126</td>\n",
       "      <td>2</td>\n",
       "      <td>2016-06-30 23:59:41</td>\n",
       "      <td>1</td>\n",
       "      <td>-73.956070</td>\n",
       "      <td>40.771900</td>\n",
       "      <td>-73.986427</td>\n",
       "      <td>40.730469</td>\n",
       "      <td>N</td>\n",
       "    </tr>\n",
       "    <tr>\n",
       "      <th>4</th>\n",
       "      <td>id1598245</td>\n",
       "      <td>1</td>\n",
       "      <td>2016-06-30 23:59:33</td>\n",
       "      <td>1</td>\n",
       "      <td>-73.970215</td>\n",
       "      <td>40.761475</td>\n",
       "      <td>-73.961510</td>\n",
       "      <td>40.755890</td>\n",
       "      <td>N</td>\n",
       "    </tr>\n",
       "  </tbody>\n",
       "</table>\n",
       "</div>"
      ],
      "text/plain": [
       "          id  vendor_id         ...         dropoff_latitude  store_and_fwd_flag\n",
       "0  id3004672          1         ...                40.756680                   N\n",
       "1  id3505355          1         ...                40.655403                   N\n",
       "2  id1217141          1         ...                40.729523                   N\n",
       "3  id2150126          2         ...                40.730469                   N\n",
       "4  id1598245          1         ...                40.755890                   N\n",
       "\n",
       "[5 rows x 9 columns]"
      ]
     },
     "execution_count": 4,
     "metadata": {},
     "output_type": "execute_result"
    }
   ],
   "source": [
    "test.head(5)"
   ]
  },
  {
   "cell_type": "markdown",
   "metadata": {
    "_uuid": "1d42ab54483a991704abe137e8ada2ec839484a7"
   },
   "source": [
    "### b. Overview <a id=\"one-b\"></a>"
   ]
  },
  {
   "cell_type": "markdown",
   "metadata": {
    "_uuid": "cc9386ab0a11c674223c6ecc3604085837f7ce77"
   },
   "source": [
    "Colonne | Description\n",
    "------- | -------\n",
    "**id** | a unique identifier for each trip  \n",
    "**vendor_id** | a code indicating the provider associated with the trip record  \n",
    "**pickup_datetime** | date and time when the meter was engaged  \n",
    "**dropoff_datetime** | date and time when the meter was disengaged  \n",
    "**passenger_count** | the number of passengers in the vehicle (driver entered value)  \n",
    "**pickup_longitude** | the longitude where the meter was engaged  \n",
    "**pickup_latitude** | the latitude where the meter was engaged  \n",
    "**dropoff_longitude** | the longitude where the meter was disengaged  \n",
    "**dropoff_latitude** | the latitude where the meter was disengaged  \n",
    "**store_and_fwd_flag** | This flag indicates whether the trip record was held in vehicle memory before sending to the vendor because the vehicle did not have a connection to the server (Y=store and forward; N=not a store and forward trip)  \n",
    "**trip_duration** | duration of the trip in seconds  \n",
    "\n",
    "*Disclaimer: The decision was made to not remove dropoff coordinates from the dataset order to provide an expanded set of variables to use in Kernels.*"
   ]
  },
  {
   "cell_type": "code",
   "execution_count": 5,
   "metadata": {
    "_uuid": "81df01ab44c6cb343641fe6835f13c31140d1eff"
   },
   "outputs": [
    {
     "name": "stdout",
     "output_type": "stream",
     "text": [
      "<class 'pandas.core.frame.DataFrame'>\n",
      "RangeIndex: 1458644 entries, 0 to 1458643\n",
      "Data columns (total 11 columns):\n",
      "id                    1458644 non-null object\n",
      "vendor_id             1458644 non-null int64\n",
      "pickup_datetime       1458644 non-null object\n",
      "dropoff_datetime      1458644 non-null object\n",
      "passenger_count       1458644 non-null int64\n",
      "pickup_longitude      1458644 non-null float64\n",
      "pickup_latitude       1458644 non-null float64\n",
      "dropoff_longitude     1458644 non-null float64\n",
      "dropoff_latitude      1458644 non-null float64\n",
      "store_and_fwd_flag    1458644 non-null object\n",
      "trip_duration         1458644 non-null int64\n",
      "dtypes: float64(4), int64(3), object(4)\n",
      "memory usage: 122.4+ MB\n",
      "<class 'pandas.core.frame.DataFrame'>\n",
      "RangeIndex: 625134 entries, 0 to 625133\n",
      "Data columns (total 9 columns):\n",
      "id                    625134 non-null object\n",
      "vendor_id             625134 non-null int64\n",
      "pickup_datetime       625134 non-null object\n",
      "passenger_count       625134 non-null int64\n",
      "pickup_longitude      625134 non-null float64\n",
      "pickup_latitude       625134 non-null float64\n",
      "dropoff_longitude     625134 non-null float64\n",
      "dropoff_latitude      625134 non-null float64\n",
      "store_and_fwd_flag    625134 non-null object\n",
      "dtypes: float64(4), int64(2), object(3)\n",
      "memory usage: 42.9+ MB\n"
     ]
    }
   ],
   "source": [
    "df.info()\n",
    "test.info()"
   ]
  },
  {
   "cell_type": "markdown",
   "metadata": {
    "_uuid": "d85baac0eff4e6525df407b262596a72e8a5fecb"
   },
   "source": [
    "## II. Data cleaning <a id=\"two\"></a>"
   ]
  },
  {
   "cell_type": "markdown",
   "metadata": {
    "_uuid": "d74e5da2bb632a78ada91ef797bf1a562e9df80c"
   },
   "source": [
    "### a. Duplicated and missing values <a id=\"two-a\"></a>"
   ]
  },
  {
   "cell_type": "code",
   "execution_count": 6,
   "metadata": {
    "_uuid": "b4da4373e43625132d7df1723ed12c8253b2a007"
   },
   "outputs": [
    {
     "data": {
      "text/plain": [
       "0"
      ]
     },
     "execution_count": 6,
     "metadata": {},
     "output_type": "execute_result"
    }
   ],
   "source": [
    "#Count the number of duplicated rows\n",
    "df.duplicated().sum()"
   ]
  },
  {
   "cell_type": "code",
   "execution_count": 7,
   "metadata": {
    "_uuid": "daf4dc10c14b5191a0a5b9d4576bcab57160f726"
   },
   "outputs": [
    {
     "data": {
      "text/plain": [
       "id                    0\n",
       "vendor_id             0\n",
       "pickup_datetime       0\n",
       "dropoff_datetime      0\n",
       "passenger_count       0\n",
       "pickup_longitude      0\n",
       "pickup_latitude       0\n",
       "dropoff_longitude     0\n",
       "dropoff_latitude      0\n",
       "store_and_fwd_flag    0\n",
       "trip_duration         0\n",
       "dtype: int64"
      ]
     },
     "execution_count": 7,
     "metadata": {},
     "output_type": "execute_result"
    }
   ],
   "source": [
    "#Count the number of NaN values for each column\n",
    "df.isna().sum()"
   ]
  },
  {
   "cell_type": "markdown",
   "metadata": {
    "_uuid": "d73b386029446bcde76f881fdbb5357d4f08964c"
   },
   "source": [
    "There are no duplicated or missing values."
   ]
  },
  {
   "cell_type": "markdown",
   "metadata": {
    "_uuid": "810ae616deaec1e0b1ea42e7bf90a253e6676ce4"
   },
   "source": [
    "### b. Deal with outliers <a id=\"two-b\"></a>"
   ]
  },
  {
   "cell_type": "code",
   "execution_count": 8,
   "metadata": {
    "_uuid": "f1af4b544b6100c54dd0f4a066b84ec7b5712304"
   },
   "outputs": [
    {
     "data": {
      "text/html": [
       "<div>\n",
       "<style scoped>\n",
       "    .dataframe tbody tr th:only-of-type {\n",
       "        vertical-align: middle;\n",
       "    }\n",
       "\n",
       "    .dataframe tbody tr th {\n",
       "        vertical-align: top;\n",
       "    }\n",
       "\n",
       "    .dataframe thead th {\n",
       "        text-align: right;\n",
       "    }\n",
       "</style>\n",
       "<table border=\"1\" class=\"dataframe\">\n",
       "  <thead>\n",
       "    <tr style=\"text-align: right;\">\n",
       "      <th></th>\n",
       "      <th>vendor_id</th>\n",
       "      <th>passenger_count</th>\n",
       "      <th>pickup_longitude</th>\n",
       "      <th>pickup_latitude</th>\n",
       "      <th>dropoff_longitude</th>\n",
       "      <th>dropoff_latitude</th>\n",
       "      <th>trip_duration</th>\n",
       "    </tr>\n",
       "  </thead>\n",
       "  <tbody>\n",
       "    <tr>\n",
       "      <th>count</th>\n",
       "      <td>1.458644e+06</td>\n",
       "      <td>1.458644e+06</td>\n",
       "      <td>1.458644e+06</td>\n",
       "      <td>1.458644e+06</td>\n",
       "      <td>1.458644e+06</td>\n",
       "      <td>1.458644e+06</td>\n",
       "      <td>1.458644e+06</td>\n",
       "    </tr>\n",
       "    <tr>\n",
       "      <th>mean</th>\n",
       "      <td>1.534950e+00</td>\n",
       "      <td>1.664530e+00</td>\n",
       "      <td>-7.397349e+01</td>\n",
       "      <td>4.075092e+01</td>\n",
       "      <td>-7.397342e+01</td>\n",
       "      <td>4.075180e+01</td>\n",
       "      <td>9.594923e+02</td>\n",
       "    </tr>\n",
       "    <tr>\n",
       "      <th>std</th>\n",
       "      <td>4.987772e-01</td>\n",
       "      <td>1.314242e+00</td>\n",
       "      <td>7.090186e-02</td>\n",
       "      <td>3.288119e-02</td>\n",
       "      <td>7.064327e-02</td>\n",
       "      <td>3.589056e-02</td>\n",
       "      <td>5.237432e+03</td>\n",
       "    </tr>\n",
       "    <tr>\n",
       "      <th>min</th>\n",
       "      <td>1.000000e+00</td>\n",
       "      <td>0.000000e+00</td>\n",
       "      <td>-1.219333e+02</td>\n",
       "      <td>3.435970e+01</td>\n",
       "      <td>-1.219333e+02</td>\n",
       "      <td>3.218114e+01</td>\n",
       "      <td>1.000000e+00</td>\n",
       "    </tr>\n",
       "    <tr>\n",
       "      <th>25%</th>\n",
       "      <td>1.000000e+00</td>\n",
       "      <td>1.000000e+00</td>\n",
       "      <td>-7.399187e+01</td>\n",
       "      <td>4.073735e+01</td>\n",
       "      <td>-7.399133e+01</td>\n",
       "      <td>4.073588e+01</td>\n",
       "      <td>3.970000e+02</td>\n",
       "    </tr>\n",
       "    <tr>\n",
       "      <th>50%</th>\n",
       "      <td>2.000000e+00</td>\n",
       "      <td>1.000000e+00</td>\n",
       "      <td>-7.398174e+01</td>\n",
       "      <td>4.075410e+01</td>\n",
       "      <td>-7.397975e+01</td>\n",
       "      <td>4.075452e+01</td>\n",
       "      <td>6.620000e+02</td>\n",
       "    </tr>\n",
       "    <tr>\n",
       "      <th>75%</th>\n",
       "      <td>2.000000e+00</td>\n",
       "      <td>2.000000e+00</td>\n",
       "      <td>-7.396733e+01</td>\n",
       "      <td>4.076836e+01</td>\n",
       "      <td>-7.396301e+01</td>\n",
       "      <td>4.076981e+01</td>\n",
       "      <td>1.075000e+03</td>\n",
       "    </tr>\n",
       "    <tr>\n",
       "      <th>max</th>\n",
       "      <td>2.000000e+00</td>\n",
       "      <td>9.000000e+00</td>\n",
       "      <td>-6.133553e+01</td>\n",
       "      <td>5.188108e+01</td>\n",
       "      <td>-6.133553e+01</td>\n",
       "      <td>4.392103e+01</td>\n",
       "      <td>3.526282e+06</td>\n",
       "    </tr>\n",
       "  </tbody>\n",
       "</table>\n",
       "</div>"
      ],
      "text/plain": [
       "          vendor_id      ...        trip_duration\n",
       "count  1.458644e+06      ...         1.458644e+06\n",
       "mean   1.534950e+00      ...         9.594923e+02\n",
       "std    4.987772e-01      ...         5.237432e+03\n",
       "min    1.000000e+00      ...         1.000000e+00\n",
       "25%    1.000000e+00      ...         3.970000e+02\n",
       "50%    2.000000e+00      ...         6.620000e+02\n",
       "75%    2.000000e+00      ...         1.075000e+03\n",
       "max    2.000000e+00      ...         3.526282e+06\n",
       "\n",
       "[8 rows x 7 columns]"
      ]
     },
     "execution_count": 8,
     "metadata": {},
     "output_type": "execute_result"
    }
   ],
   "source": [
    "df.describe()"
   ]
  },
  {
   "cell_type": "markdown",
   "metadata": {
    "_uuid": "72e367455010f3ca0ad92a478888ad9a6c8d7fcc"
   },
   "source": [
    "We clearly see `trip_duration` takes strange values for `min` and `max`. Let's have a quick visualization with a boxplot."
   ]
  },
  {
   "cell_type": "code",
   "execution_count": 9,
   "metadata": {
    "_uuid": "80d09dbb000f6c53f79054839537ba518167cd5c"
   },
   "outputs": [
    {
     "data": {
      "image/png": "[encoded data removed]",
      "text/plain": [
       "<Figure size 1296x432 with 1 Axes>"
      ]
     },
     "metadata": {},
     "output_type": "display_data"
    }
   ],
   "source": [
    "#Visualize univariate outliers\n",
    "plt.subplots(figsize=(18,6))\n",
    "plt.title(\"Outliers visualization\")\n",
    "df.boxplot();"
   ]
  },
  {
   "cell_type": "markdown",
   "metadata": {
    "_uuid": "1b7d073d9b3954eb84c1d3ca0337c0f488c2c88a"
   },
   "source": [
    "There are outliers for `trip_duration`. I can't find a proper interpretation and it will probably damage our model, so I choose to get rid of them."
   ]
  },
  {
   "cell_type": "code",
   "execution_count": 10,
   "metadata": {
    "_uuid": "716e1c857c7e526009cb09217cf9a929ded2bd34"
   },
   "outputs": [],
   "source": [
    "#Only keep trips that lasted less than 5900 seconds\n",
    "df = df[(df.trip_duration < 5900)]"
   ]
  },
  {
   "cell_type": "code",
   "execution_count": 11,
   "metadata": {
    "_uuid": "aa5dd76cf21935356a86f5c54ccd8b0b1fbcb5f1"
   },
   "outputs": [],
   "source": [
    "#Only keep trips with passengers\n",
    "df = df[(df.passenger_count > 0)]"
   ]
  },
  {
   "cell_type": "code",
   "execution_count": 12,
   "metadata": {
    "_uuid": "5c329fbe7c118896dff3f6c862aa246877bb0e2a"
   },
   "outputs": [
    {
     "data": {
      "image/png": "[encoded data removed]",
      "text/plain": [
       "<Figure size 1296x432 with 1 Axes>"
      ]
     },
     "metadata": {},
     "output_type": "display_data"
    }
   ],
   "source": [
    "#Plot pickup positions to visualize outliers\n",
    "pickup_longitude = list(df.pickup_longitude)\n",
    "pickup_latitude = list(df.pickup_latitude)\n",
    "plt.subplots(figsize=(18,6))\n",
    "plt.plot(pickup_longitude, pickup_latitude, '.', alpha = 1, markersize = 10)\n",
    "plt.xlabel('pickup_longitude')\n",
    "plt.ylabel('pickup_latitude')\n",
    "plt.show()"
   ]
  },
  {
   "cell_type": "code",
   "execution_count": 13,
   "metadata": {
    "_uuid": "fbc4683526cb07cbba545c73245a8a6ae61f597f"
   },
   "outputs": [
    {
     "data": {
      "image/png": "[encoded data removed]",
      "text/plain": [
       "<Figure size 1296x432 with 1 Axes>"
      ]
     },
     "metadata": {},
     "output_type": "display_data"
    }
   ],
   "source": [
    "#Plot dropoff positions to visualize outliers\n",
    "dropoff_longitude = list(df.dropoff_longitude)\n",
    "dropoff_latitude = list(df.dropoff_latitude)\n",
    "plt.subplots(figsize=(18,6))\n",
    "plt.plot(dropoff_longitude, dropoff_latitude, '.', alpha = 1, markersize = 10)\n",
    "plt.xlabel('dropoff_longitude')\n",
    "plt.ylabel('dropoff_latitude')\n",
    "plt.show()"
   ]
  },
  {
   "cell_type": "code",
   "execution_count": 14,
   "metadata": {
    "_uuid": "8483e1100af01f085402e5e2c7a915167f788c1b"
   },
   "outputs": [],
   "source": [
    "#Remove position outliers\n",
    "df = df[(df.pickup_longitude > -100)]\n",
    "df = df[(df.pickup_latitude < 50)]\n",
    "#df = df[(df.dropoff_longitude < -70) & (df.dropoff_longitude > -80)]\n",
    "#df = df[(df.dropoff_latitude < 50)]"
   ]
  },
  {
   "cell_type": "markdown",
   "metadata": {
    "_uuid": "ded8fe370f88295307313d5ccb1d6c909e573f59"
   },
   "source": [
    "## III. Features engineering <a id=\"three\"></a>"
   ]
  },
  {
   "cell_type": "markdown",
   "metadata": {
    "_uuid": "c8ef6a6c4675d3b61b4195840ac26c7c81ae0a8b"
   },
   "source": [
    "### a. Target <a id=\"three-a\"></a>"
   ]
  },
  {
   "cell_type": "code",
   "execution_count": 15,
   "metadata": {
    "_uuid": "f3b24694f32b53e10c2a7aef15eb9291f8c34a07",
    "scrolled": false
   },
   "outputs": [
    {
     "data": {
      "image/png": "[encoded data removed]",
      "text/plain": [
       "<Figure size 1296x432 with 1 Axes>"
      ]
     },
     "metadata": {},
     "output_type": "display_data"
    }
   ],
   "source": [
    "#Visualize the distribution of trip_duration values\n",
    "plt.subplots(figsize=(18,6))\n",
    "plt.hist(df['trip_duration'].values, bins=100)\n",
    "plt.xlabel('trip_duration')\n",
    "plt.ylabel('number of train records')\n",
    "plt.show()"
   ]
  },
  {
   "cell_type": "markdown",
   "metadata": {
    "_uuid": "f5e76ba04821ba4200ebf6ebd0d4593f7cd30c1d"
   },
   "source": [
    "The distribution is **right-skewed** so we can consider a log-transformation of `trip_duration` column."
   ]
  },
  {
   "cell_type": "code",
   "execution_count": 16,
   "metadata": {
    "_uuid": "6cf6fd89aa4eaea012122fd47d1bdb325a266486",
    "scrolled": true
   },
   "outputs": [
    {
     "data": {
      "image/png": "[encoded data removed]",
      "text/plain": [
       "<Figure size 1296x432 with 1 Axes>"
      ]
     },
     "metadata": {},
     "output_type": "display_data"
    }
   ],
   "source": [
    "#Log-transformation\n",
    "plt.subplots(figsize=(18,6))\n",
    "df['trip_duration'] = np.log(df['trip_duration'].values)\n",
    "plt.hist(df['trip_duration'].values, bins=100)\n",
    "plt.xlabel('log(trip_duration)')\n",
    "plt.ylabel('number of train records')\n",
    "plt.show()"
   ]
  },
  {
   "cell_type": "markdown",
   "metadata": {
    "_uuid": "46ba9f740e659e6cca0a749e0a2288d48e3fc78d"
   },
   "source": [
    "### b. Deal with categorical features <a id=\"three-b\"></a>"
   ]
  },
  {
   "cell_type": "code",
   "execution_count": 17,
   "metadata": {
    "_uuid": "84f46b633163790904b2c1f9476943926d64b272"
   },
   "outputs": [],
   "source": [
    "#One-hot encoding binary categorical features\n",
    "df = pd.concat([df, pd.get_dummies(df['store_and_fwd_flag'])], axis=1)\n",
    "test = pd.concat([test, pd.get_dummies(test['store_and_fwd_flag'])], axis=1)\n",
    "\n",
    "df.drop(['store_and_fwd_flag'], axis=1, inplace=True)\n",
    "\n",
    "df = pd.concat([df, pd.get_dummies(df['vendor_id'])], axis=1)\n",
    "test = pd.concat([test, pd.get_dummies(test['vendor_id'])], axis=1)\n",
    "\n",
    "df.drop(['vendor_id'], axis=1, inplace=True)"
   ]
  },
  {
   "cell_type": "markdown",
   "metadata": {
    "_uuid": "727031c83cb7bbd8b6f30ccfb9b72f12dfebcfd2"
   },
   "source": [
    "### c. Deal with dates <a id=\"three-c\"></a>"
   ]
  },
  {
   "cell_type": "code",
   "execution_count": 18,
   "metadata": {
    "_uuid": "7b625def5299b397333dd0c900cfdd50543bc6c8",
    "scrolled": true
   },
   "outputs": [
    {
     "name": "stdout",
     "output_type": "stream",
     "text": [
      "<class 'pandas.core.frame.DataFrame'>\n",
      "Int64Index: 1455954 entries, 0 to 1458643\n",
      "Data columns (total 16 columns):\n",
      "id                   1455954 non-null object\n",
      "passenger_count      1455954 non-null int64\n",
      "pickup_longitude     1455954 non-null float64\n",
      "pickup_latitude      1455954 non-null float64\n",
      "dropoff_longitude    1455954 non-null float64\n",
      "dropoff_latitude     1455954 non-null float64\n",
      "trip_duration        1455954 non-null float64\n",
      "N                    1455954 non-null uint8\n",
      "Y                    1455954 non-null uint8\n",
      "1                    1455954 non-null uint8\n",
      "2                    1455954 non-null uint8\n",
      "month                1455954 non-null int64\n",
      "week                 1455954 non-null int64\n",
      "weekday              1455954 non-null int64\n",
      "hour                 1455954 non-null int64\n",
      "minute_oftheday      1455954 non-null int64\n",
      "dtypes: float64(5), int64(6), object(1), uint8(4)\n",
      "memory usage: 150.0+ MB\n"
     ]
    }
   ],
   "source": [
    "#Datetyping the dates\n",
    "df['pickup_datetime'] = pd.to_datetime(df.pickup_datetime)\n",
    "test['pickup_datetime'] = pd.to_datetime(test.pickup_datetime)\n",
    "\n",
    "df.drop(['dropoff_datetime'], axis=1, inplace=True) #as we don't have this feature in the testset\n",
    "\n",
    "#Date features creations and deletions\n",
    "df['month'] = df.pickup_datetime.dt.month\n",
    "df['week'] = df.pickup_datetime.dt.week\n",
    "df['weekday'] = df.pickup_datetime.dt.weekday\n",
    "df['hour'] = df.pickup_datetime.dt.hour\n",
    "df['minute'] = df.pickup_datetime.dt.minute\n",
    "df['minute_oftheday'] = df['hour'] * 60 + df['minute']\n",
    "df.drop(['minute'], axis=1, inplace=True)\n",
    "\n",
    "test['month'] = test.pickup_datetime.dt.month\n",
    "test['week'] = test.pickup_datetime.dt.week\n",
    "test['weekday'] = test.pickup_datetime.dt.weekday\n",
    "test['hour'] = test.pickup_datetime.dt.hour\n",
    "test['minute'] = test.pickup_datetime.dt.minute\n",
    "test['minute_oftheday'] = test['hour'] * 60 + test['minute']\n",
    "test.drop(['minute'], axis=1, inplace=True)\n",
    "\n",
    "df.drop(['pickup_datetime'], axis=1, inplace=True)\n",
    "\n",
    "df.info()"
   ]
  },
  {
   "cell_type": "markdown",
   "metadata": {
    "_uuid": "82a18eb9e511ace5bc2eedeff3fac70e0860b0a0"
   },
   "source": [
    "### d. Distance and speed creations <a id=\"three-d\"></a>"
   ]
  },
  {
   "cell_type": "code",
   "execution_count": 19,
   "metadata": {
    "_uuid": "6e147135c6762619166754a4a16f380210513f61"
   },
   "outputs": [],
   "source": [
    "#Function aiming at calculating distances from coordinates\n",
    "def ft_haversine_distance(lat1, lng1, lat2, lng2):\n",
    "    lat1, lng1, lat2, lng2 = map(np.radians, (lat1, lng1, lat2, lng2))\n",
    "    AVG_EARTH_RADIUS = 6371 #km\n",
    "    lat = lat2 - lat1\n",
    "    lng = lng2 - lng1\n",
    "    d = np.sin(lat * 0.5) ** 2 + np.cos(lat1) * np.cos(lat2) * np.sin(lng * 0.5) ** 2\n",
    "    h = 2 * AVG_EARTH_RADIUS * np.arcsin(np.sqrt(d))\n",
    "    return h\n",
    "\n",
    "#Add distance feature\n",
    "df['distance'] = ft_haversine_distance(df['pickup_latitude'].values,\n",
    "                                                 df['pickup_longitude'].values, \n",
    "                                                 df['dropoff_latitude'].values,\n",
    "                                                 df['dropoff_longitude'].values)\n",
    "test['distance'] = ft_haversine_distance(test['pickup_latitude'].values, \n",
    "                                                test['pickup_longitude'].values, \n",
    "                                                test['dropoff_latitude'].values, \n",
    "                                                test['dropoff_longitude'].values)"
   ]
  },
  {
   "cell_type": "code",
   "execution_count": 20,
   "metadata": {},
   "outputs": [],
   "source": [
    "#Function aiming at calculating the direction\n",
    "def ft_degree(lat1, lng1, lat2, lng2):\n",
    "    AVG_EARTH_RADIUS = 6371 #km\n",
    "    lng_delta_rad = np.radians(lng2 - lng1)\n",
    "    lat1, lng1, lat2, lng2 = map(np.radians, (lat1, lng1, lat2, lng2))\n",
    "    y = np.sin(lng_delta_rad) * np.cos(lat2)\n",
    "    x = np.cos(lat1) * np.sin(lat2) - np.sin(lat1) * np.cos(lat2) * np.cos(lng_delta_rad)\n",
    "    return np.degrees(np.arctan2(y, x))\n",
    "\n",
    "#Add direction feature\n",
    "df['direction'] = ft_degree(df['pickup_latitude'].values,\n",
    "                                df['pickup_longitude'].values,\n",
    "                                df['dropoff_latitude'].values,\n",
    "                                df['dropoff_longitude'].values)\n",
    "test['direction'] = ft_degree(test['pickup_latitude'].values,\n",
    "                                  test['pickup_longitude'].values, \n",
    "                                  test['dropoff_latitude'].values,\n",
    "                                  test['dropoff_longitude'].values)"
   ]
  },
  {
   "cell_type": "code",
   "execution_count": 21,
   "metadata": {
    "_uuid": "82daced542709608021dfba7d631e96435504e44"
   },
   "outputs": [
    {
     "data": {
      "image/png": "[encoded data removed]",
      "text/plain": [
       "<Figure size 432x288 with 1 Axes>"
      ]
     },
     "metadata": {},
     "output_type": "display_data"
    }
   ],
   "source": [
    "#Visualize distance outliers\n",
    "df.boxplot(column='distance', return_type='axes');"
   ]
  },
  {
   "cell_type": "code",
   "execution_count": 22,
   "metadata": {
    "_uuid": "f085828ddbe1b1cd4e8dc1ab49874c3f43399810"
   },
   "outputs": [],
   "source": [
    "#Remove distance outliers\n",
    "df = df[(df.distance < 200)]"
   ]
  },
  {
   "cell_type": "code",
   "execution_count": 23,
   "metadata": {
    "_uuid": "02f2cc76773274970da657d62d960aedd44990f5"
   },
   "outputs": [],
   "source": [
    "#Create speed feature\n",
    "df['speed'] = df.distance / df.trip_duration"
   ]
  },
  {
   "cell_type": "code",
   "execution_count": 24,
   "metadata": {
    "_uuid": "c07fd4f1390ba5c32beea5b667ad166fdfd155d8"
   },
   "outputs": [
    {
     "data": {
      "image/png": "[encoded data removed]",
      "text/plain": [
       "<Figure size 432x288 with 1 Axes>"
      ]
     },
     "metadata": {},
     "output_type": "display_data"
    }
   ],
   "source": [
    "#Visualize speed feature\n",
    "df.boxplot(column='speed', return_type='axes');"
   ]
  },
  {
   "cell_type": "code",
   "execution_count": 25,
   "metadata": {
    "_uuid": "c5bcec663a3a40d002b4b8df85808b31e570da0c"
   },
   "outputs": [],
   "source": [
    "#Remove speed outliers\n",
    "df = df[(df.speed < 30)]\n",
    "df.drop(['speed'], axis=1, inplace=True)"
   ]
  },
  {
   "cell_type": "markdown",
   "metadata": {
    "_uuid": "cebe21c4432ef6d90c30e3a7d79ed9c07046fa4b"
   },
   "source": [
    "### e. Correlations and dimensionality reductions <a id=\"three-e\"></a>"
   ]
  },
  {
   "cell_type": "code",
   "execution_count": 26,
   "metadata": {
    "_uuid": "0a8e5a59695b08d0356b8567cc2ffaf0c39166a6",
    "scrolled": true
   },
   "outputs": [
    {
     "data": {
      "image/png": "[encoded data removed]",
      "text/plain": [
       "<Figure size 1008x360 with 2 Axes>"
      ]
     },
     "metadata": {},
     "output_type": "display_data"
    }
   ],
   "source": [
    "#Correlations between variables\n",
    "fig, ax = plt.subplots(figsize=(14,5))  \n",
    "sns.heatmap(data=df.corr(), annot=True, cmap = plt.cm.RdYlBu_r, linewidths=.1, ax=ax).set_title('Correlations between variables');"
   ]
  },
  {
   "cell_type": "markdown",
   "metadata": {
    "_uuid": "b51df1f4338fa4128cbab12d8459bcf0c42728e6"
   },
   "source": [
    "## IV. Model selection <a id=\"four\"></a>"
   ]
  },
  {
   "cell_type": "markdown",
   "metadata": {
    "_uuid": "5518276bcaa6c2ba0b13bf9fc3844e7b031235f9"
   },
   "source": [
    "### a. Split <a id=\"four-a\"></a>"
   ]
  },
  {
   "cell_type": "code",
   "execution_count": 27,
   "metadata": {
    "_uuid": "4618aab947bb372d1c367ec7c12235f1f4f446c4",
    "scrolled": false
   },
   "outputs": [
    {
     "data": {
      "text/plain": [
       "((1455912, 16), (1455912,))"
      ]
     },
     "execution_count": 27,
     "metadata": {},
     "output_type": "execute_result"
    }
   ],
   "source": [
    "#Split the labeled data frame into two sets: features and target\n",
    "y = df[\"trip_duration\"]\n",
    "df.drop([\"trip_duration\"], axis=1, inplace=True)\n",
    "df.drop(['id'], axis=1, inplace=True)\n",
    "X = df\n",
    "\n",
    "X.shape, y.shape"
   ]
  },
  {
   "cell_type": "code",
   "execution_count": 28,
   "metadata": {
    "_uuid": "cfa6f955aafef42aaccc26674694cba2defa1680"
   },
   "outputs": [
    {
     "data": {
      "text/plain": [
       "((1164729, 16), (1164729,), (291183, 16), (291183,))"
      ]
     },
     "execution_count": 28,
     "metadata": {},
     "output_type": "execute_result"
    }
   ],
   "source": [
    "#Split the labeled data frame into two sets to train then test the models\n",
    "from sklearn.model_selection import train_test_split\n",
    "\n",
    "X_train, X_test, y_train, y_test = train_test_split(X, y, test_size=0.2, random_state=42)\n",
    "\n",
    "X_train.shape, y_train.shape, X_test.shape, y_test.shape"
   ]
  },
  {
   "cell_type": "markdown",
   "metadata": {
    "_uuid": "dd61fbcbadd97bf9f9ec4fb198fb1138a2e8aaee"
   },
   "source": [
    "### b. Metrics <a id=\"four-b\"></a>"
   ]
  },
  {
   "cell_type": "markdown",
   "metadata": {
    "_uuid": "0af8bec2d17c9b1e27ab8a73d4a174b451edab35"
   },
   "source": [
    "For this specific problematic, we'll measure the error using the RMSE (Root Mean Squared Error)."
   ]
  },
  {
   "cell_type": "code",
   "execution_count": 29,
   "metadata": {
    "_uuid": "98926a3e0f6e9899eba86401a173cc1ecd03fa36"
   },
   "outputs": [],
   "source": [
    "from sklearn.metrics import mean_squared_error as MSE"
   ]
  },
  {
   "cell_type": "markdown",
   "metadata": {
    "_uuid": "c1b4e15a839bbf7eb394987c122956a8e3192b33"
   },
   "source": [
    "### c. Models <a id=\"four-c\"></a>"
   ]
  },
  {
   "cell_type": "code",
   "execution_count": 30,
   "metadata": {
    "_uuid": "683114022fd7afcac599767973940ea30a5261d4"
   },
   "outputs": [],
   "source": [
    "#%%time\n",
    "#Try GradientBoosting\n",
    "#from sklearn.ensemble import GradientBoostingRegressor\n",
    "\n",
    "#gb = GradientBoostingRegressor()\n",
    "#gb.fit(X_train, y_train)\n",
    "#print(gb.score(X_train, y_train), gb.score(X_test, y_test))\n",
    "#print(np.sqrt(MSE(y_test, gb.predict(X_test))))\n",
    "    \n",
    "#Output\n",
    "    #0.7454771059776502 0.7443578507676307\n",
    "    #0.39291173774102295\n",
    "    #CPU times: user 3min 48s, sys: 328 ms, total: 3min 48s\n",
    "    #Wall time: 3min 48s"
   ]
  },
  {
   "cell_type": "code",
   "execution_count": 31,
   "metadata": {
    "_uuid": "79a3c5323aaa5259f2d170057a62e29c14582dd4",
    "scrolled": false
   },
   "outputs": [],
   "source": [
    "#%%time\n",
    "#Try RandomForest\n",
    "#from sklearn.ensemble import RandomForestRegressor\n",
    "\n",
    "#rf = RandomForestRegressor()\n",
    "#rf.fit(X_train, y_train)\n",
    "#print(rf.score(X_train, y_train), rf.score(X_test, y_test))\n",
    "#print(np.sqrt(MSE(y_test, rf.predict(X_test))))\n",
    "\n",
    "#Output:\n",
    "    #0.9601197799928392 0.7790255381297454\n",
    "    #0.36530012047088345\n",
    "    #CPU times: user 3min, sys: 792 ms, total: 3min 1s\n",
    "    #Wall time: 3min 1s"
   ]
  },
  {
   "cell_type": "code",
   "execution_count": 32,
   "metadata": {},
   "outputs": [],
   "source": [
    "#%%time\n",
    "#Try LightGBM ----------------------------\n",
    "import lightgbm as lgb\n",
    "\n",
    "#lgb_params = {\n",
    "#    'metric': 'rmse',\n",
    "#    'is_training_metric': True}\n",
    "\n",
    "#lgb_train = lgb.Dataset(X_train, y_train)\n",
    "#lgb_test = lgb.Dataset(X_test, y_test)\n",
    "#lgb_model = lgb.train(lgb_params, lgb_train, num_boost_round=100, valid_sets=[lgb_train, lgb_test], early_stopping_rounds=5)\n",
    "\n",
    "#Output\n",
    "    #[100]\tvalid_0's rmse: 0.362209\tvalid_1's rmse: 0.3629\n",
    "    #CPU times: user 40.9 s, sys: 332 ms, total: 41.2 s\n",
    "    #Wall time: 21.2 s\n",
    "\n",
    "#Try LightGBM with sklearn API ------------\n",
    "#from lightgbm import LGBMRegressor\n",
    "\n",
    "#lgbm = lgb.LGBMRegressor()\n",
    "#lgbm.fit(X, y)\n",
    "#print(lgbm.score(X_train, y_train), lgbm.score(X_test, y_test))\n",
    "#print(np.sqrt(MSE(y_test, lgbm.predict(X_test))))\n",
    "\n",
    "#Output:\n",
    "    #0.7812886118508641 0.7827256176145024\n",
    "    #0.3623481127815768\n",
    "    #CPU times: user 42 s, sys: 1.08 s, total: 43 s\n",
    "    #Wall time: 22.5 s"
   ]
  },
  {
   "cell_type": "markdown",
   "metadata": {
    "_uuid": "afd52a5a5ee82622c4f2f5171acd35804a8102e6"
   },
   "source": [
    "**LightGBM** is blazingly fast compared to RandomForest and classic GradientBoosting, while fitting better. It is our clear winner."
   ]
  },
  {
   "cell_type": "markdown",
   "metadata": {
    "_uuid": "122dcd986e18d754077660fff653c542231d6a36"
   },
   "source": [
    "### d. Cross-validation <a id=\"four-d\"></a>"
   ]
  },
  {
   "cell_type": "code",
   "execution_count": 33,
   "metadata": {
    "_uuid": "57ec31cb4ee2cf52963732cb9337818478f6c3b0"
   },
   "outputs": [],
   "source": [
    "#Cross-validation on LightGBM model --------------------------\n",
    "#lgb_df = lgb.Dataset(X, y)\n",
    "#lgb.cv(lgb_params, lgb_df, stratified=False) #False is needed as it only works with classification\n",
    "\n",
    "#Cross-validation on LightGBM model (sklearn API) ------------\n",
    "#from sklearn.model_selection import cross_val_score\n",
    "\n",
    "#cv_score = cross_val_score(lgbm, X, y, cv=5)\n",
    "#print(cv_score)\n",
    "#print(np.mean(cv_score))\n",
    "\n",
    "#Output:\n",
    "    #[0.77872018 0.7801329  0.77988107 0.78049745 0.77904688]\n",
    "    #0.7796556968369478"
   ]
  },
  {
   "cell_type": "markdown",
   "metadata": {
    "_uuid": "ef3b4c4e1a16e40d1d3e16f4b408c021097772c4"
   },
   "source": [
    "Our LightGBM model is stable."
   ]
  },
  {
   "cell_type": "markdown",
   "metadata": {
    "_uuid": "69b89b0ff34fe089347ba298df05753538a2c107"
   },
   "source": [
    "## V. Hyperparameters tuning <a id=\"five\"></a>"
   ]
  },
  {
   "cell_type": "code",
   "execution_count": 34,
   "metadata": {
    "_uuid": "024b637a4bc000e88f9e0121a28d3961862b90e5"
   },
   "outputs": [],
   "source": [
    "#from sklearn.model_selection import RandomizedSearchCV\n",
    "\n",
    "#n_estimators = [int(x) for x in np.linspace(start = 5, stop = 20, num = 16)]\n",
    "#max_features = ['auto', 'sqrt']\n",
    "#max_depth = [int(x) for x in np.linspace(10, 110, num = 11)]\n",
    "#max_depth.append(None)\n",
    "#min_samples_split = [2, 5, 10]\n",
    "#min_samples_leaf = [1, 2, 4]\n",
    "#bootstrap = [True, False]\n",
    "\n",
    "#random_grid = {'n_estimators': n_estimators, 'max_features': max_features, 'max_depth': max_depth, 'min_samples_split': min_samples_split, 'min_samples_leaf': min_samples_leaf, 'bootstrap': bootstrap}\n",
    "\n",
    "#random_cv = RandomizedSearchCV(estimator = m1, param_distributions = random_grid, n_iter = 100, cv = 3, verbose=2, random_state=42, n_jobs = -1)\n",
    "#print(random_cv.best_params_)"
   ]
  },
  {
   "cell_type": "code",
   "execution_count": 35,
   "metadata": {},
   "outputs": [],
   "source": [
    "#Play with hyperparameters. Check how to fine tune your model in the doc: https://lightgbm.readthedocs.io/en/latest/Parameters-Tuning.html\n",
    "lgb_params = {\n",
    "    #'metric' : 'rmse',\n",
    "    'learning_rate': 0.1,\n",
    "    'max_depth': 25,\n",
    "    'num_leaves': 1000, \n",
    "    'objective': 'regression',\n",
    "    'feature_fraction': 0.9,\n",
    "    'bagging_fraction': 0.5,\n",
    "    'max_bin': 1000 }\n",
    "\n",
    "#lgb_train = lgb.Dataset(X_train, y_train)\n",
    "#lgb_test = lgb.Dataset(X_test, y_test)\n",
    "#lgb_model = lgb.train(lgb_params, lgb_train, num_boost_round=1500, valid_sets=[lgb_train, lgb_test], early_stopping_rounds=5)"
   ]
  },
  {
   "cell_type": "markdown",
   "metadata": {
    "_uuid": "93a7f180aea79f043154f1a3fe5bd1dc9fec666d"
   },
   "source": [
    "## VI. Training and predictions <a id=\"six\"></a>"
   ]
  },
  {
   "cell_type": "code",
   "execution_count": 36,
   "metadata": {
    "_uuid": "baee36e7d3ec5c151fbb7049cf8572b1948d53a3"
   },
   "outputs": [],
   "source": [
    "#%%time\n",
    "#Training on all labeled data using the best parameters in hyperparameters tuning\n",
    "#rf = RandomForestRegressor(n_estimators=300, min_samples_leaf=10, min_samples_split=15, max_features='auto', max_depth=90, bootstrap=True)\n",
    "#rf.fit(X, y)"
   ]
  },
  {
   "cell_type": "code",
   "execution_count": 37,
   "metadata": {},
   "outputs": [],
   "source": [
    "#%%time\n",
    "#Training on all labeled data using the best parameters (sklearn API version)\n",
    "#from lightgbm import LGBMRegressor\n",
    "\n",
    "#lgbm = lgb.LGBMRegressor(n_estimators=500, num_leaves=1000, max_depth=25, objective='regression')\n",
    "#lgbm.fit(X, y)"
   ]
  },
  {
   "cell_type": "code",
   "execution_count": 38,
   "metadata": {
    "collapsed": true
   },
   "outputs": [
    {
     "name": "stdout",
     "output_type": "stream",
     "text": [
      "CPU times: user 10min 2s, sys: 8.98 s, total: 10min 11s\n",
      "Wall time: 5min 9s\n"
     ]
    }
   ],
   "source": [
    "%%time\n",
    "#Training on all labeled data using the best parameters\n",
    "lgb_df = lgb.Dataset(X, y)\n",
    "lgb_model = lgb.train(lgb_params, lgb_df, num_boost_round=1500)"
   ]
  },
  {
   "cell_type": "code",
   "execution_count": 39,
   "metadata": {
    "_uuid": "4039ce436150a221beb0b7bc5f7ba321d108ea23"
   },
   "outputs": [],
   "source": [
    "#Make predictions on test data frame\n",
    "test_columns = X.columns\n",
    "predictions = lgb_model.predict(test[test_columns])"
   ]
  },
  {
   "cell_type": "code",
   "execution_count": 40,
   "metadata": {
    "_uuid": "3dae0e84bac51e6ede0a9ad6ef34d23da9d4a905"
   },
   "outputs": [
    {
     "data": {
      "text/html": [
       "<div>\n",
       "<style scoped>\n",
       "    .dataframe tbody tr th:only-of-type {\n",
       "        vertical-align: middle;\n",
       "    }\n",
       "\n",
       "    .dataframe tbody tr th {\n",
       "        vertical-align: top;\n",
       "    }\n",
       "\n",
       "    .dataframe thead th {\n",
       "        text-align: right;\n",
       "    }\n",
       "</style>\n",
       "<table border=\"1\" class=\"dataframe\">\n",
       "  <thead>\n",
       "    <tr style=\"text-align: right;\">\n",
       "      <th></th>\n",
       "      <th>id</th>\n",
       "      <th>trip_duration</th>\n",
       "    </tr>\n",
       "  </thead>\n",
       "  <tbody>\n",
       "    <tr>\n",
       "      <th>0</th>\n",
       "      <td>id3004672</td>\n",
       "      <td>716.070826</td>\n",
       "    </tr>\n",
       "    <tr>\n",
       "      <th>1</th>\n",
       "      <td>id3505355</td>\n",
       "      <td>672.125770</td>\n",
       "    </tr>\n",
       "    <tr>\n",
       "      <th>2</th>\n",
       "      <td>id1217141</td>\n",
       "      <td>455.368356</td>\n",
       "    </tr>\n",
       "    <tr>\n",
       "      <th>3</th>\n",
       "      <td>id2150126</td>\n",
       "      <td>938.637832</td>\n",
       "    </tr>\n",
       "    <tr>\n",
       "      <th>4</th>\n",
       "      <td>id1598245</td>\n",
       "      <td>354.432595</td>\n",
       "    </tr>\n",
       "  </tbody>\n",
       "</table>\n",
       "</div>"
      ],
      "text/plain": [
       "          id  trip_duration\n",
       "0  id3004672     716.070826\n",
       "1  id3505355     672.125770\n",
       "2  id1217141     455.368356\n",
       "3  id2150126     938.637832\n",
       "4  id1598245     354.432595"
      ]
     },
     "execution_count": 40,
     "metadata": {},
     "output_type": "execute_result"
    }
   ],
   "source": [
    "#Create a data frame designed a submission on Kaggle\n",
    "submission = pd.DataFrame({'id': test.id, 'trip_duration': np.exp(predictions)})\n",
    "submission.head()"
   ]
  },
  {
   "cell_type": "code",
   "execution_count": 41,
   "metadata": {
    "_uuid": "564d71964b18b097fb2ad9760b04655fcf65e9b0"
   },
   "outputs": [],
   "source": [
    "#Create a csv out of the submission data frame\n",
    "submission.to_csv(\"submission.csv\", index=False)"
   ]
  }
 ],
 "metadata": {
  "kernelspec": {
   "display_name": "Python 3",
   "language": "python",
   "name": "python3"
  },
  "language_info": {
   "codemirror_mode": {
    "name": "ipython",
    "version": 3
   },
   "file_extension": ".py",
   "mimetype": "text/x-python",
   "name": "python",
   "nbconvert_exporter": "python",
   "pygments_lexer": "ipython3",
   "version": "3.7.0"
  }
 },
 "nbformat": 4,
 "nbformat_minor": 1
}
